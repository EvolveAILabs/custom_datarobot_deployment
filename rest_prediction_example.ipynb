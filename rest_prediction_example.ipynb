{
 "cells": [
  {
   "cell_type": "code",
   "execution_count": 39,
   "id": "17075c37-bfe0-4271-9277-6f29a2fbce04",
   "metadata": {},
   "outputs": [
    {
     "data": {
      "text/plain": [
       "b'\"[[[65,51,81],[44,20,53],[72,59,65]],[[19,74,8],[70,69,64],[45,81,14]]]\"'"
      ]
     },
     "execution_count": 39,
     "metadata": {},
     "output_type": "execute_result"
    }
   ],
   "source": [
    "import sys\n",
    "import json\n",
    "import requests\n",
    " \n",
    "API_URL = 'https://evolve-ai-labs-pty-ltd.dynamic.orm.datarobot.com/predApi/v1.0/deployments/{deployment_id}/predictionsUnstructured'    # noqa\n",
    "API_KEY = ''\n",
    "DATAROBOT_KEY = ''\n",
    " \n",
    "DEPLOYMENT_ID = '681c20830e0350e49a789e78'\n",
    "\n",
    "data = '{\"num_matrices\": 2, \"row_count\": 3, \"col_count\": 3}'\n",
    "\n",
    "headers = {\n",
    "    # 'Content-Type': '{};charset={}'.format(mimetype, charset),\n",
    "    'Content-Type': 'application/json',\n",
    "    'Authorization': 'Bearer {}'.format(API_KEY),\n",
    "    'DataRobot-Key': DATAROBOT_KEY,\n",
    "}\n",
    " \n",
    "url = API_URL.format(deployment_id=DEPLOYMENT_ID)\n",
    "\n",
    "predictions_response = requests.post(\n",
    "    url,\n",
    "    data=data,\n",
    "    headers=headers,\n",
    ")\n",
    "predictions_response.content"
   ]
  },
  {
   "cell_type": "code",
   "execution_count": 43,
   "id": "c01340b7-756f-4103-a471-9842e63684a7",
   "metadata": {},
   "outputs": [
    {
     "name": "stdout",
     "output_type": "stream",
     "text": [
      "[[65 51 81]\n",
      " [44 20 53]\n",
      " [72 59 65]]\n",
      "[[19 74  8]\n",
      " [70 69 64]\n",
      " [45 81 14]]\n"
     ]
    }
   ],
   "source": [
    "matrices = json.loads(json.loads(predictions_response.content))\n",
    "for mat in matrices:\n",
    "    print(np.array(mat))"
   ]
  }
 ],
 "metadata": {
  "kernelspec": {
   "display_name": "Python 3 (ipykernel)",
   "language": "python",
   "name": "python3"
  },
  "language_info": {
   "codemirror_mode": {
    "name": "ipython",
    "version": 3
   },
   "file_extension": ".py",
   "mimetype": "text/x-python",
   "name": "python",
   "nbconvert_exporter": "python",
   "pygments_lexer": "ipython3",
   "version": "3.11.9"
  }
 },
 "nbformat": 4,
 "nbformat_minor": 5
}
